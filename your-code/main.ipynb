{
 "cells": [
  {
   "cell_type": "markdown",
   "metadata": {},
   "source": [
    "# Probability"
   ]
  },
  {
   "cell_type": "markdown",
   "metadata": {},
   "source": [
    "## Challenge 1\n",
    "There is a box with 10 white balls, 12 red balls and 8 black balls. Calculate the probability of:\n",
    "* Taking a white ball out.\n",
    "* Taking a white ball on first extraction and a black ball out on second extraction without replacing the first one.\n",
    "* Taking a white ball on first extraction and a black ball out on second extraction replacing the first one.\n",
    "* Taking 3 balls and them being all different colours."
   ]
  },
  {
   "cell_type": "code",
   "execution_count": 1,
   "metadata": {},
   "outputs": [],
   "source": [
    "from scipy import stats\n",
    "import numpy as np\n",
    "import matplotlib.pyplot as plt\n",
    "import math"
   ]
  },
  {
   "cell_type": "code",
   "execution_count": 2,
   "metadata": {},
   "outputs": [
    {
     "name": "stdout",
     "output_type": "stream",
     "text": [
      "The probability of taking a white ball out is: 0.3333333333333333\n",
      "The probability of taking a white ball out on first extraction and a black ball out on second extraction without replacement is: 0.09195402298850575\n",
      "The probability of taking a white ball out on first extraction and a black ball out on second extraction with replacement is: 0.08888888888888888\n",
      "The probability of taking out sequentially balls of 3 different colors ia: 0.23645320197044334\n"
     ]
    }
   ],
   "source": [
    "# Calculating a probability for taking one white ball\n",
    "white=10\n",
    "red=12\n",
    "black=8\n",
    "balls=white+red+black\n",
    "p_white=white/balls\n",
    "print(f\"The probability of taking a white ball out is: {p_white}\")\n",
    "\n",
    "# Calculating a probability for drawing first white and then black ball without replacement\n",
    "p_white_black=p_white*(black/(balls-1))\n",
    "print(f\"The probability of taking a white ball out on first extraction and a black ball out on second extraction without replacement is: {p_white_black}\")\n",
    "\n",
    "# Calculating a probability for drawing first white and then black ball with replacement\n",
    "p_white_black2=p_white*(black/balls)\n",
    "print(f\"The probability of taking a white ball out on first extraction and a black ball out on second extraction with replacement is: {p_white_black2}\")\n",
    "\n",
    "# Calculating a probability for taking sequentially 3 balls, all being different colors\n",
    "one_order=(white*red*black)/(balls*(balls-1)*(balls-2))\n",
    "# We have 3 colors, so 3! = 6 different arrangements\n",
    "number_of_orders = math.factorial(3)\n",
    "prob=one_order*number_of_orders\n",
    "print(f\"The probability of taking out sequentially balls of 3 different colors ia: {prob}\")"
   ]
  },
  {
   "cell_type": "markdown",
   "metadata": {},
   "source": [
    "## Challenge 2\n",
    "\n",
    "You want to go on picnic on Saturday. You hate rain, and would know to plan your weekend. To help you make a decision, you gather the following data about rainy days:\n",
    "\n",
    "* 40% of all days are cloudy.\n",
    "* About 50% of cloudy days are rainy. \n",
    "* About 20% of non-cloudy days are rainy.\n",
    "\n",
    "What is the chance of rain during next Saturday?"
   ]
  },
  {
   "cell_type": "code",
   "execution_count": 3,
   "metadata": {},
   "outputs": [
    {
     "name": "stdout",
     "output_type": "stream",
     "text": [
      "The chance of rain during next Saturday is: 32.0%\n"
     ]
    }
   ],
   "source": [
    "p_cloudy=0.4\n",
    "p_rainy_if_cloudy=0.5\n",
    "p_rainy_if_non_cloudy=0.2\n",
    "\n",
    "p_rain=(p_rainy_if_cloudy*p_cloudy)+(p_rainy_if_non_cloudy*(1-p_cloudy))\n",
    "print(f\"The chance of rain during next Saturday is: {p_rain*100}%\")\n"
   ]
  },
  {
   "cell_type": "markdown",
   "metadata": {},
   "source": [
    "## Challenge 3\n",
    "\n",
    "A and B are events of a probability such that $P(A) = 0.3$, $P(B) = 0.6$ and $P(A \\cap B) = 0.1$\n",
    "\n",
    "Which of the following statements are true?  \n",
    "**HINT: draw a big Venn Diagram by your side**  \n",
    "* $P(\\overline{A}) = 0.7$\n",
    "* $P(A \\cup B) = 0.6$\n",
    "* $P(A \\cap \\overline{B}) = 0.2$\n",
    "* $P(A \\cup \\overline{A}) = 1$  \n",
    "* $P(A \\cap (B \\cup \\overline{B})) = 0.4$\n",
    "* $P(\\overline{A} \\cap \\overline{B}) = 0.3$\n",
    "* $P(\\overline{A \\cap B}) = 0.9$"
   ]
  },
  {
   "cell_type": "code",
   "execution_count": 20,
   "metadata": {},
   "outputs": [
    {
     "name": "stdout",
     "output_type": "stream",
     "text": [
      "The 1st statement P(not A)=0.7 is: True\n",
      "The 2nd statement P(A u B)=0.6 is: False\n",
      "The 3rd statement P(A ∩ not B)=0.2 is: True\n",
      "The 4th statement P(A u not A)=1 is: True\n",
      "The 5th statement P(A ∩(B u not B)=0.4 is: False\n",
      "The 6th statement P(not A ∩ not B)=0.3 is: False\n",
      "The 7th statement P(not (A ∩ B))=0.9 is: True\n"
     ]
    }
   ],
   "source": [
    "# Importing decimal to resolve Python problem with storing floats (can be 0.19999999 instead of 0.2)\n",
    "from decimal import Decimal\n",
    "\n",
    "p_a=Decimal('0.3')\n",
    "p_b=Decimal('0.6')\n",
    "p_anb=Decimal('0.1')\n",
    "p_not_a=1-p_a\n",
    "print(f\"The 1st statement P(not A)=0.7 is: {p_not_a==Decimal('0.7')}\")\n",
    "\n",
    "p_aub=p_a+p_b-p_anb\n",
    "print(f\"The 2nd statement P(A u B)=0.6 is: {p_aub==Decimal('0.6')}\")\n",
    "\n",
    "p_an_notb=p_a-p_anb\n",
    "print(f\"The 3rd statement P(A ∩ not B)=0.2 is: {p_an_notb==Decimal('0.2')}\")\n",
    "p_an_notb\n",
    "\n",
    "p_au_nota=Decimal('1')\n",
    "print(f\"The 4th statement P(A u not A)=1 is: {p_au_nota==Decimal('1')}\")\n",
    "\n",
    "p_anbunotb=p_a\n",
    "print(f\"The 5th statement P(A ∩(B u not B)=0.4 is: {p_anbunotb==Decimal('0.4')}\")\n",
    "\n",
    "p_nota_n_notb=1-p_aub\n",
    "p_nota_n_notb\n",
    "print(f\"The 6th statement P(not A ∩ not B)=0.3 is: {p_nota_n_notb==Decimal('0.3')}\")\n",
    "\n",
    "p_not_ab=1-p_anb\n",
    "print(f\"The 7th statement P(not (A ∩ B))=0.9 is: {p_not_ab==Decimal('0.9')}\")\n"
   ]
  },
  {
   "cell_type": "markdown",
   "metadata": {},
   "source": [
    "## Challenge 4\n",
    "\n",
    " * If someone flies to China, the probability of getting Covid is 1%  \n",
    " * If someone flies to Italy, the probability of getting Covid is 20%  \n",
    "\n",
    "I roll 1 dice with numbers 1, 2, 3, 4, 5, 6:  \n",
    " * If 1: I fly to Italy\n",
    " * If not 1: I fly to China\n",
    "\n",
    "During my trip, I got Covid. What is the probability that I flew to China?"
   ]
  },
  {
   "cell_type": "code",
   "execution_count": 24,
   "metadata": {},
   "outputs": [
    {
     "name": "stdout",
     "output_type": "stream",
     "text": [
      "The probability that this person flew to China is: 0.0005\n"
     ]
    }
   ],
   "source": [
    "p_ill_if_ch=0.01\n",
    "p_ill_if_it=0.2\n",
    "p_it=1/6\n",
    "p_ch=5/6\n",
    "p_ill=(p_ill_if_ch*p_ch)+(p_ill_if_it*p_it)\n",
    "p_ch_if_ill=p_ill_if_ch*p_ill/p_ch\n",
    "print(f\"The probability that this person flew to China is: {round((p_ch_if_ill), 6)}\")\n"
   ]
  },
  {
   "cell_type": "markdown",
   "metadata": {},
   "source": [
    "## BONUS\n",
    "\n",
    "You roll 2 dice. What is the probability that the sum of the numbers is 7? And 8? And 9? Then simulate 10000 times and draw a countplot."
   ]
  },
  {
   "cell_type": "markdown",
   "metadata": {},
   "source": [
    "your explanation here"
   ]
  },
  {
   "cell_type": "code",
   "execution_count": null,
   "metadata": {},
   "outputs": [],
   "source": [
    "# YOUR CODE HERE"
   ]
  }
 ],
 "metadata": {
  "kernelspec": {
   "display_name": "Python 3",
   "language": "python",
   "name": "python3"
  },
  "language_info": {
   "codemirror_mode": {
    "name": "ipython",
    "version": 3
   },
   "file_extension": ".py",
   "mimetype": "text/x-python",
   "name": "python",
   "nbconvert_exporter": "python",
   "pygments_lexer": "ipython3",
   "version": "3.12.7"
  },
  "toc": {
   "base_numbering": 1,
   "nav_menu": {},
   "number_sections": false,
   "sideBar": true,
   "skip_h1_title": false,
   "title_cell": "Table of Contents",
   "title_sidebar": "Contents",
   "toc_cell": false,
   "toc_position": {
    "height": "calc(100% - 180px)",
    "left": "10px",
    "top": "150px",
    "width": "296.475px"
   },
   "toc_section_display": true,
   "toc_window_display": false
  },
  "varInspector": {
   "cols": {
    "lenName": 16,
    "lenType": 16,
    "lenVar": 40
   },
   "kernels_config": {
    "python": {
     "delete_cmd_postfix": "",
     "delete_cmd_prefix": "del ",
     "library": "var_list.py",
     "varRefreshCmd": "print(var_dic_list())"
    },
    "r": {
     "delete_cmd_postfix": ") ",
     "delete_cmd_prefix": "rm(",
     "library": "var_list.r",
     "varRefreshCmd": "cat(var_dic_list()) "
    }
   },
   "types_to_exclude": [
    "module",
    "function",
    "builtin_function_or_method",
    "instance",
    "_Feature"
   ],
   "window_display": false
  }
 },
 "nbformat": 4,
 "nbformat_minor": 2
}
